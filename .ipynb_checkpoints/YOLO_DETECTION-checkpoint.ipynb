{
 "cells": [
  {
   "cell_type": "markdown",
   "metadata": {},
   "source": [
    "# 1. Install and Import Dependencies"
   ]
  },
  {
   "cell_type": "code",
   "execution_count": 1,
   "metadata": {},
   "outputs": [],
   "source": [
    "import torch\n",
    "from matplotlib import pyplot as plt\n",
    "import numpy as np\n",
    "import cv2\n",
    "import gc"
   ]
  },
  {
   "cell_type": "code",
   "execution_count": 2,
   "metadata": {},
   "outputs": [
    {
     "name": "stdout",
     "output_type": "stream",
     "text": [
      "Using device: NVIDIA GeForce GTX 960\n",
      "Using device: NVIDIA GeForce GTX 960\n"
     ]
    }
   ],
   "source": [
    "# setting device on GPU if available, else CPU\n",
    "device = torch.device('cuda' if torch.cuda.is_available() else 'cpu')\n",
    "\n",
    "#Additional Info when using cuda\n",
    "if device.type == 'cuda':\n",
    "    print('Using device:', torch.cuda.get_device_name(0))\n",
    "    print('Using device:', torch.cuda.get_device_name(1))"
   ]
  },
  {
   "cell_type": "markdown",
   "metadata": {},
   "source": [
    "# 2. Load Model"
   ]
  },
  {
   "cell_type": "code",
   "execution_count": 3,
   "metadata": {},
   "outputs": [
    {
     "name": "stderr",
     "output_type": "stream",
     "text": [
      "Using cache found in /home/hugo/.cache/torch/hub/ultralytics_yolov5_master\n",
      "fatal: not a git repository (or any of the parent directories): .git\n",
      "YOLOv5 🚀 2022-3-10 torch 1.8.2+cu111 CUDA:0 (NVIDIA GeForce GTX 960, 4041MiB)\n",
      "\n",
      "Fusing layers... \n",
      "Model Summary: 378 layers, 35704908 parameters, 0 gradients, 50.0 GFLOPs\n",
      "Adding AutoShape... \n"
     ]
    }
   ],
   "source": [
    "gc.collect()\n",
    "torch.cuda.empty_cache()\n",
    "\n",
    "model = torch.hub.load('ultralytics/yolov5', 'yolov5m6')"
   ]
  },
  {
   "cell_type": "markdown",
   "metadata": {},
   "source": [
    "# 5. Train from scratch"
   ]
  },
  {
   "cell_type": "code",
   "execution_count": 4,
   "metadata": {},
   "outputs": [],
   "source": [
    "import uuid   # Unique identifier\n",
    "import os\n",
    "import time"
   ]
  },
  {
   "cell_type": "code",
   "execution_count": 5,
   "metadata": {
    "scrolled": false
   },
   "outputs": [],
   "source": [
    "#!cd yolov5 && python3 train.py --img 320 --batch 16 --device 0,1 --epochs 300 --data dataset.yml --weights yolov5m6.pt --workers 0"
   ]
  },
  {
   "cell_type": "code",
   "execution_count": 7,
   "metadata": {},
   "outputs": [
    {
     "name": "stdout",
     "output_type": "stream",
     "text": [
      "\u001b[34m\u001b[1mtrain: \u001b[0mweights=yolov5m6.pt, cfg=, data=dataset.yml, hyp=data/hyps/hyp.scratch-low.yaml, epochs=300, batch_size=32, imgsz=320, rect=False, resume=False, nosave=False, noval=False, noautoanchor=False, evolve=None, bucket=, cache=None, image_weights=False, device=0,1, multi_scale=False, single_cls=False, optimizer=SGD, sync_bn=False, workers=8, project=runs/train, name=exp, exist_ok=False, quad=False, cos_lr=False, label_smoothing=0.0, patience=100, freeze=[0], save_period=-1, local_rank=0, entity=None, upload_dataset=False, bbox_interval=-1, artifact_alias=latest\n",
      "\u001b[34m\u001b[1mgithub: \u001b[0mskipping check (not a git repository), for updates see https://github.com/ultralytics/yolov5\n",
      "YOLOv5 🚀 2022-3-4 torch 1.8.2+cu111 CUDA:0 (NVIDIA GeForce GTX 960, 4041MiB)\n",
      "                                     CUDA:1 (NVIDIA GeForce GTX 960, 4044MiB)\n",
      "\n",
      "Added key: store_based_barrier_key:1 to store for rank: 0\n",
      "\u001b[34m\u001b[1mhyperparameters: \u001b[0mlr0=0.01, lrf=0.01, momentum=0.937, weight_decay=0.0005, warmup_epochs=3.0, warmup_momentum=0.8, warmup_bias_lr=0.1, box=0.05, cls=0.5, cls_pw=1.0, obj=1.0, obj_pw=1.0, iou_t=0.2, anchor_t=4.0, fl_gamma=0.0, hsv_h=0.015, hsv_s=0.7, hsv_v=0.4, degrees=0.0, translate=0.1, scale=0.5, shear=0.0, perspective=0.0, flipud=0.0, fliplr=0.5, mosaic=1.0, mixup=0.0, copy_paste=0.0\n",
      "\u001b[34m\u001b[1mWeights & Biases: \u001b[0mrun 'pip install wandb' to automatically track and visualize YOLOv5 🚀 runs (RECOMMENDED)\n",
      "\u001b[34m\u001b[1mTensorBoard: \u001b[0mStart with 'tensorboard --logdir runs/train', view at http://localhost:6006/\n",
      "Overriding model.yaml nc=80 with nc=6\n",
      "\n",
      "                 from  n    params  module                                  arguments                     \n",
      "  0                -1  1      5280  models.common.Conv                      [3, 48, 6, 2, 2]              \n",
      "  1                -1  1     41664  models.common.Conv                      [48, 96, 3, 2]                \n",
      "  2                -1  2     65280  models.common.C3                        [96, 96, 2]                   \n",
      "  3                -1  1    166272  models.common.Conv                      [96, 192, 3, 2]               \n",
      "  4                -1  4    444672  models.common.C3                        [192, 192, 4]                 \n",
      "  5                -1  1    664320  models.common.Conv                      [192, 384, 3, 2]              \n",
      "  6                -1  6   2512896  models.common.C3                        [384, 384, 6]                 \n",
      "  7                -1  1   1991808  models.common.Conv                      [384, 576, 3, 2]              \n",
      "  8                -1  2   2327040  models.common.C3                        [576, 576, 2]                 \n",
      "  9                -1  1   3982848  models.common.Conv                      [576, 768, 3, 2]              \n",
      " 10                -1  2   4134912  models.common.C3                        [768, 768, 2]                 \n",
      " 11                -1  1   1476864  models.common.SPPF                      [768, 768, 5]                 \n",
      " 12                -1  1    443520  models.common.Conv                      [768, 576, 1, 1]              \n",
      " 13                -1  1         0  torch.nn.modules.upsampling.Upsample    [None, 2, 'nearest']          \n",
      " 14           [-1, 8]  1         0  models.common.Concat                    [1]                           \n",
      " 15                -1  2   2658816  models.common.C3                        [1152, 576, 2, False]         \n",
      " 16                -1  1    221952  models.common.Conv                      [576, 384, 1, 1]              \n",
      " 17                -1  1         0  torch.nn.modules.upsampling.Upsample    [None, 2, 'nearest']          \n",
      " 18           [-1, 6]  1         0  models.common.Concat                    [1]                           \n",
      " 19                -1  2   1182720  models.common.C3                        [768, 384, 2, False]          \n",
      " 20                -1  1     74112  models.common.Conv                      [384, 192, 1, 1]              \n",
      " 21                -1  1         0  torch.nn.modules.upsampling.Upsample    [None, 2, 'nearest']          \n",
      " 22           [-1, 4]  1         0  models.common.Concat                    [1]                           \n",
      " 23                -1  2    296448  models.common.C3                        [384, 192, 2, False]          \n",
      " 24                -1  1    332160  models.common.Conv                      [192, 192, 3, 2]              \n",
      " 25          [-1, 20]  1         0  models.common.Concat                    [1]                           \n",
      " 26                -1  2   1035264  models.common.C3                        [384, 384, 2, False]          \n",
      " 27                -1  1   1327872  models.common.Conv                      [384, 384, 3, 2]              \n",
      " 28          [-1, 16]  1         0  models.common.Concat                    [1]                           \n",
      " 29                -1  2   2437632  models.common.C3                        [768, 576, 2, False]          \n",
      " 30                -1  1   2987136  models.common.Conv                      [576, 576, 3, 2]              \n",
      " 31          [-1, 12]  1         0  models.common.Concat                    [1]                           \n",
      " 32                -1  2   4429824  models.common.C3                        [1152, 768, 2, False]         \n",
      " 33  [23, 26, 29, 32]  1     63492  models.yolo.Detect                      [6, [[19, 27, 44, 40, 38, 94], [96, 68, 86, 152, 180, 137], [140, 301, 303, 264, 238, 542], [436, 615, 739, 380, 925, 792]], [192, 384, 576, 768]]\n",
      "Model Summary: 481 layers, 35304804 parameters, 35304804 gradients, 49.1 GFLOPs\n",
      "\n",
      "Transferred 619/627 items from yolov5m6.pt\n",
      "Scaled weight_decay = 0.0005\n",
      "\u001b[34m\u001b[1moptimizer:\u001b[0m SGD with parameter groups 103 weight (no decay), 107 weight, 107 bias\n",
      "\u001b[34m\u001b[1mtrain: \u001b[0mScanning '/home/hugo/Desktop/YOLO/YOLO-Detection/data/labels/train.cache'\u001b[0m\n",
      "\u001b[34m\u001b[1mtrain: \u001b[0mScanning '/home/hugo/Desktop/YOLO/YOLO-Detection/data/labels/train.cache'\u001b[0m\n",
      "\u001b[34m\u001b[1mval: \u001b[0mScanning '/home/hugo/Desktop/YOLO/YOLO-Detection/data/labels/train.cache' i\u001b[0m\n",
      "Plotting labels to runs/train/exp3/labels.jpg... \n",
      "\n",
      "\u001b[34m\u001b[1mAutoAnchor: \u001b[0m5.98 anchors/target, 0.998 Best Possible Recall (BPR). Current anchors are a good fit to dataset ✅\n",
      "Image sizes 320 train, 320 val\n",
      "Using 8 dataloader workers\n",
      "Logging results to \u001b[1mruns/train/exp3\u001b[0m\n",
      "Starting training for 300 epochs...\n",
      "\n",
      "     Epoch   gpu_mem       box       obj       cls    labels  img_size\n",
      "     0/299     1.75G    0.1216  0.009505   0.05411        28       320:   1%|▏  Reducer buckets have been rebuilt in this iteration.\n",
      "     0/299     1.75G    0.1216  0.009505   0.05411        28       320:   1%|▏  \n",
      "Traceback (most recent call last):\n",
      "  File \"train.py\", line 643, in <module>\n",
      "    main(opt)\n",
      "  File \"train.py\", line 539, in main\n",
      "    train(opt.hyp, opt, device, callbacks)\n",
      "  File \"train.py\", line 330, in train\n",
      "    pred = model(imgs)  # forward\n",
      "  File \"/home/hugo/.local/lib/python3.8/site-packages/torch/nn/modules/module.py\", line 889, in _call_impl\n",
      "    result = self.forward(*input, **kwargs)\n",
      "  File \"/home/hugo/.local/lib/python3.8/site-packages/torch/nn/parallel/distributed.py\", line 705, in forward\n",
      "    output = self.module(*inputs[0], **kwargs[0])\n",
      "  File \"/home/hugo/.local/lib/python3.8/site-packages/torch/nn/modules/module.py\", line 889, in _call_impl\n",
      "    result = self.forward(*input, **kwargs)\n",
      "  File \"/home/hugo/Desktop/YOLO/YOLO-Detection/yolov5/models/yolo.py\", line 126, in forward\n",
      "    return self._forward_once(x, profile, visualize)  # single-scale inference, train\n",
      "  File \"/home/hugo/Desktop/YOLO/YOLO-Detection/yolov5/models/yolo.py\", line 149, in _forward_once\n",
      "    x = m(x)  # run\n",
      "  File \"/home/hugo/.local/lib/python3.8/site-packages/torch/nn/modules/module.py\", line 889, in _call_impl\n",
      "    result = self.forward(*input, **kwargs)\n",
      "  File \"/home/hugo/Desktop/YOLO/YOLO-Detection/yolov5/models/common.py\", line 139, in forward\n",
      "    return self.cv3(torch.cat((self.m(self.cv1(x)), self.cv2(x)), dim=1))\n",
      "  File \"/home/hugo/.local/lib/python3.8/site-packages/torch/nn/modules/module.py\", line 889, in _call_impl\n",
      "    result = self.forward(*input, **kwargs)\n",
      "  File \"/home/hugo/Desktop/YOLO/YOLO-Detection/yolov5/models/common.py\", line 47, in forward\n",
      "    return self.act(self.bn(self.conv(x)))\n",
      "  File \"/home/hugo/.local/lib/python3.8/site-packages/torch/nn/modules/module.py\", line 889, in _call_impl\n",
      "    result = self.forward(*input, **kwargs)\n",
      "  File \"/home/hugo/.local/lib/python3.8/site-packages/torch/nn/modules/conv.py\", line 399, in forward\n",
      "    return self._conv_forward(input, self.weight, self.bias)\n",
      "  File \"/home/hugo/.local/lib/python3.8/site-packages/torch/nn/modules/conv.py\", line 395, in _conv_forward\n",
      "    return F.conv2d(input, weight, bias, self.stride,\n",
      "RuntimeError: CUDA out of memory. Tried to allocate 20.00 MiB (GPU 0; 3.95 GiB total capacity; 1.80 GiB already allocated; 12.88 MiB free; 1.82 GiB reserved in total by PyTorch)\n"
     ]
    },
    {
     "name": "stdout",
     "output_type": "stream",
     "text": [
      "Killing subprocess 8386\n",
      "Killing subprocess 8387\n",
      "Traceback (most recent call last):\n",
      "  File \"/usr/lib/python3.8/runpy.py\", line 194, in _run_module_as_main\n",
      "    return _run_code(code, main_globals, None,\n",
      "  File \"/usr/lib/python3.8/runpy.py\", line 87, in _run_code\n",
      "    exec(code, run_globals)\n",
      "  File \"/home/hugo/.local/lib/python3.8/site-packages/torch/distributed/launch.py\", line 340, in <module>\n",
      "    main()\n",
      "  File \"/home/hugo/.local/lib/python3.8/site-packages/torch/distributed/launch.py\", line 326, in main\n",
      "    sigkill_handler(signal.SIGTERM, None)  # not coming back\n",
      "  File \"/home/hugo/.local/lib/python3.8/site-packages/torch/distributed/launch.py\", line 301, in sigkill_handler\n",
      "    raise subprocess.CalledProcessError(returncode=last_return_code, cmd=cmd)\n",
      "subprocess.CalledProcessError: Command '['/usr/bin/python3', '-u', 'train.py', '--local_rank=1', '--img', '320', '--batch', '32', '--data', 'dataset.yml', '--weights', 'yolov5m6.pt', '--device', '0,1']' returned non-zero exit status 1.\n"
     ]
    }
   ],
   "source": [
    "!cd yolov5 && python3 -m torch.distributed.launch --nproc_per_node 2 train.py --img 320 --batch 32 --data dataset.yml --weights yolov5m6.pt --device 0,1"
   ]
  },
  {
   "cell_type": "markdown",
   "metadata": {},
   "source": [
    "# 6. Load Custom Model"
   ]
  },
  {
   "cell_type": "code",
   "execution_count": null,
   "metadata": {},
   "outputs": [],
   "source": [
    "model = torch.hub.load('ultralytics/yolov5', 'custom', path='yolov5/runs/train/exp/weights/best.pt', force_reload=True)"
   ]
  },
  {
   "cell_type": "code",
   "execution_count": null,
   "metadata": {},
   "outputs": [],
   "source": [
    "img = os.path.join('data', 'images', 'validation', '2 (14).jpg')"
   ]
  },
  {
   "cell_type": "code",
   "execution_count": null,
   "metadata": {},
   "outputs": [],
   "source": [
    "results = model(img)"
   ]
  },
  {
   "cell_type": "code",
   "execution_count": null,
   "metadata": {},
   "outputs": [],
   "source": [
    "results.print()"
   ]
  },
  {
   "cell_type": "code",
   "execution_count": null,
   "metadata": {},
   "outputs": [],
   "source": [
    "%matplotlib inline \n",
    "plt.imshow(np.squeeze(results.render()))\n",
    "plt.show()"
   ]
  },
  {
   "cell_type": "code",
   "execution_count": null,
   "metadata": {},
   "outputs": [],
   "source": [
    "!cd yolov5 && python3 export.py --weights yolov5m6.pt --include tflite --img 320"
   ]
  },
  {
   "cell_type": "code",
   "execution_count": null,
   "metadata": {},
   "outputs": [],
   "source": [
    "!cd yolov5 && python3 detect.py --weights yolov5m6-fp16.tflite --img 320"
   ]
  }
 ],
 "metadata": {
  "kernelspec": {
   "display_name": "pytorch",
   "language": "python",
   "name": "pytorch"
  },
  "language_info": {
   "codemirror_mode": {
    "name": "ipython",
    "version": 3
   },
   "file_extension": ".py",
   "mimetype": "text/x-python",
   "name": "python",
   "nbconvert_exporter": "python",
   "pygments_lexer": "ipython3",
   "version": "3.8.10"
  }
 },
 "nbformat": 4,
 "nbformat_minor": 2
}
